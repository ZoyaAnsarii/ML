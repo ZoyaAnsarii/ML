{
 "cells": [
  {
   "cell_type": "code",
   "execution_count": null,
   "id": "4ed14597",
   "metadata": {},
   "outputs": [],
   "source": [
    "import pandas as pd\n",
    "import numpy as np\n",
    "import re\n",
    "import time"
   ]
  },
  {
   "cell_type": "code",
   "execution_count": null,
   "id": "a7430cc6",
   "metadata": {},
   "outputs": [],
   "source": [
    "df1['input_data1'] = df1.input_data.apply(lambda x:\" \".join(x))\n",
    "df1.head()"
   ]
  },
  {
   "cell_type": "code",
   "execution_count": null,
   "id": "b8d616aa",
   "metadata": {},
   "outputs": [],
   "source": [
    "df1.Sentiment.value_counts(normalize=True)*100"
   ]
  },
  {
   "cell_type": "code",
   "execution_count": null,
   "id": "2655fae7",
   "metadata": {},
   "outputs": [],
   "source": [
    "print(\"Boths classes Number of samples:\\t\\t\\n\",(df1.Sentiment.value_counts(normalize=True)*100))\n",
    "print()\n",
    "print(\"Boths classes ratio:\\t\\t\\t\\n\",(df1.Sentiment.value_counts(normalize=True)*100)*10/100)\n",
    "print()\n",
    "print(\"Boths classes 20% sample count\\n\",(df1.Sentiment.value_counts())*20/100)"
   ]
  },
  {
   "cell_type": "code",
   "execution_count": null,
   "id": "b72933dd",
   "metadata": {},
   "outputs": [],
   "source": [
    "test = pd.concat([df1[df1.Sentiment==4].sample(1841),\n",
    "                    df1[df1.Sentiment==0].sample(1414)])[[\"input_data1\",\"Sentiment\"]]\n",
    "print(len(test))\n",
    "display(test.head(1))\n",
    "\n",
    "train = df1.loc[~df1.index.isin(test.index.values)][[\"input_data1\",\"Sentiment\"]]\n",
    "print(len(train))\n",
    "display(train.head(1))"
   ]
  },
  {
   "cell_type": "code",
   "execution_count": null,
   "id": "c7366723",
   "metadata": {
    "scrolled": true
   },
   "outputs": [],
   "source": [
    "X = df1[[\"input_data1\"]]# all Data for corpus\n",
    "\n",
    "print(X.head())\n"
   ]
  },
  {
   "cell_type": "code",
   "execution_count": null,
   "id": "70e19d01",
   "metadata": {},
   "outputs": [],
   "source": [
    "from sklearn.feature_extraction.text import TfidfVectorizer\n",
    "# list of text documents\n",
    "text = X.input_data1.values\n",
    "# create the transform\n",
    "vectorizer = TfidfVectorizer()\n",
    "# tokenize and build vocab\n",
    "vectorizer.fit(text)\n",
    "# summarize\n",
    "print(vectorizer.vocabulary_)\n",
    "\n",
    "# encode document\n",
    "# vector = vectorizer.transform(text)"
   ]
  },
  {
   "cell_type": "code",
   "execution_count": null,
   "id": "0232f57c",
   "metadata": {},
   "outputs": [],
   "source": [
    "train_x = vectorizer.transform(train.input_data1.values).toarray()\n",
    "train_y = train.Sentiment.values\n",
    "test_x = vectorizer.transform(test.input_data1.values).toarray()\n",
    "test_y = test.Sentiment.values\n",
    "print(len(train_x),len(train_y))\n",
    "print(len(test_x),len(test_y))"
   ]
  },
  {
   "cell_type": "markdown",
   "id": "f083ac80",
   "metadata": {},
   "source": [
    "# Train Vavie Bayes ML algorithm"
   ]
  },
  {
   "cell_type": "code",
   "execution_count": null,
   "id": "3611d916",
   "metadata": {},
   "outputs": [],
   "source": [
    "from sklearn.naive_bayes import BernoulliNB\n",
    "clf = BernoulliNB()\n",
    "clf.fit(train_x,train_y)"
   ]
  },
  {
   "cell_type": "markdown",
   "id": "2661f90a",
   "metadata": {},
   "source": [
    "# Test Data"
   ]
  },
  {
   "cell_type": "code",
   "execution_count": null,
   "id": "cbe2aaed",
   "metadata": {},
   "outputs": [],
   "source": [
    "y_predict = clf.predict(test_x)\n",
    "y_predict"
   ]
  },
  {
   "cell_type": "markdown",
   "id": "034ce7ea",
   "metadata": {},
   "source": [
    "## Confusion Matrix"
   ]
  },
  {
   "cell_type": "code",
   "execution_count": null,
   "id": "70c672e8",
   "metadata": {},
   "outputs": [],
   "source": [
    "from sklearn.metrics import confusion_matrix\n",
    "from sklearn.metrics import accuracy_score\n",
    "\n",
    "cm = confusion_matrix(test_y,y_predict)\n",
    "cm"
   ]
  },
  {
   "cell_type": "markdown",
   "id": "bbf68200",
   "metadata": {},
   "source": [
    "<img src='https://miro.medium.com/max/712/1*Z54JgbS4DUwWSknhDCvNTQ.png'>"
   ]
  },
  {
   "cell_type": "raw",
   "id": "de1368c3",
   "metadata": {},
   "source": [
    "label True, prediction Postive(True) = TP\n",
    "label False, prediction Negative(False) = TN\n",
    "\n",
    "label True, prediction Negative(False) = FN\n",
    "label False, prediction Positive(True) = FP"
   ]
  },
  {
   "cell_type": "code",
   "execution_count": null,
   "id": "b2180399",
   "metadata": {},
   "outputs": [],
   "source": [
    "accuracy_score(test_y, y_predict)"
   ]
  },
  {
   "cell_type": "code",
   "execution_count": null,
   "id": "bf13b111",
   "metadata": {},
   "outputs": [],
   "source": []
  }
 ],
 "metadata": {
  "kernelspec": {
   "display_name": "Python 3 (ipykernel)",
   "language": "python",
   "name": "python3"
  },
  "language_info": {
   "codemirror_mode": {
    "name": "ipython",
    "version": 3
   },
   "file_extension": ".py",
   "mimetype": "text/x-python",
   "name": "python",
   "nbconvert_exporter": "python",
   "pygments_lexer": "ipython3",
   "version": "3.9.13"
  }
 },
 "nbformat": 4,
 "nbformat_minor": 5
}
